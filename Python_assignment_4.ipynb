{
  "nbformat": 4,
  "nbformat_minor": 0,
  "metadata": {
    "colab": {
      "name": "Python assignment 4.ipynb",
      "provenance": []
    },
    "kernelspec": {
      "name": "python3",
      "display_name": "Python 3"
    },
    "language_info": {
      "name": "python"
    }
  },
  "cells": [
    {
      "cell_type": "markdown",
      "metadata": {
        "id": "R6Jg6ccWi2Fq"
      },
      "source": [
        "1.1 Write a Python Program(with class concepts) to find the area of the triangle using the below\n",
        "formula."
      ]
    },
    {
      "cell_type": "code",
      "metadata": {
        "id": "D-ukTC00i4YR"
      },
      "source": [
        "class trianglearea:\n",
        "\n",
        "  def __init__(self,a,b,c):\n",
        "    self.a = a\n",
        "    self.b = b\n",
        "    self.c = c\n",
        "    self.s = (a+b+c)/2\n",
        "\n",
        "  def calarea(self):\n",
        "    return (self.s*(self.s-self.a)*(self.s-self.b)*(self.s-self.c))**0.5\n",
        "     "
      ],
      "execution_count": 46,
      "outputs": []
    },
    {
      "cell_type": "code",
      "metadata": {
        "id": "Mn77y1CMkXzT"
      },
      "source": [
        "t = trianglearea(2,2,2)"
      ],
      "execution_count": 47,
      "outputs": []
    },
    {
      "cell_type": "code",
      "metadata": {
        "colab": {
          "base_uri": "https://localhost:8080/"
        },
        "id": "eK8_jtAYkbEd",
        "outputId": "8398b8d2-4707-4bf5-c58e-67c99a0cf452"
      },
      "source": [
        "t.calarea()"
      ],
      "execution_count": 49,
      "outputs": [
        {
          "output_type": "execute_result",
          "data": {
            "text/plain": [
              "1.7320508075688772"
            ]
          },
          "metadata": {
            "tags": []
          },
          "execution_count": 49
        }
      ]
    },
    {
      "cell_type": "markdown",
      "metadata": {
        "id": "GqU-e7Ncvnmu"
      },
      "source": [
        "1.2 Write a function filter_long_words() that takes a list of words and an integer n and returns\n",
        "the list of words that are longer than n."
      ]
    },
    {
      "cell_type": "code",
      "metadata": {
        "id": "J8fvEcLAvqmW"
      },
      "source": [
        "class filter_long_words:\n",
        "\n",
        "  def __init__ (self,words,n):\n",
        "    self.words = words\n",
        "    self.n = n\n",
        "\n",
        "  def filter_words(self):\n",
        "    c=[]\n",
        "    for i in range(len(self.words)):\n",
        "      if len(self.words[i]) > self.n:\n",
        "        c.append(self.words[i])\n",
        "    return (c)"
      ],
      "execution_count": 112,
      "outputs": []
    },
    {
      "cell_type": "code",
      "metadata": {
        "id": "9I2l5-ucwcgJ"
      },
      "source": [
        "f = filter_long_words(['This','is','Mohamed','Maideen'],4)"
      ],
      "execution_count": 113,
      "outputs": []
    },
    {
      "cell_type": "code",
      "metadata": {
        "colab": {
          "base_uri": "https://localhost:8080/"
        },
        "id": "pfXJmcINwm1Z",
        "outputId": "507d6777-3c86-406d-8a7f-267c5584e032"
      },
      "source": [
        "f.filter_words()"
      ],
      "execution_count": 114,
      "outputs": [
        {
          "output_type": "execute_result",
          "data": {
            "text/plain": [
              "['Mohamed', 'Maideen']"
            ]
          },
          "metadata": {
            "tags": []
          },
          "execution_count": 114
        }
      ]
    },
    {
      "cell_type": "code",
      "metadata": {
        "id": "1MKUXFAzzJdt"
      },
      "source": [
        "# In Function method"
      ],
      "execution_count": null,
      "outputs": []
    },
    {
      "cell_type": "code",
      "metadata": {
        "id": "ed5Dcsl_zXqQ"
      },
      "source": [
        "def filt_long_words(w,n):\n",
        "  d=[]\n",
        "  for i in range(len(w)):\n",
        "    if len(w[i])>n:\n",
        "      d.append(w[i])\n",
        "  return d\n"
      ],
      "execution_count": 115,
      "outputs": []
    },
    {
      "cell_type": "code",
      "metadata": {
        "colab": {
          "base_uri": "https://localhost:8080/"
        },
        "id": "nCadK6BAz1Rr",
        "outputId": "d1c29ad8-0faf-4bc2-b212-12293baa1c06"
      },
      "source": [
        "filt_long_words(['This','is','Mohamed','Maideen'],4)"
      ],
      "execution_count": 116,
      "outputs": [
        {
          "output_type": "execute_result",
          "data": {
            "text/plain": [
              "['mohamed', 'maideen']"
            ]
          },
          "metadata": {
            "tags": []
          },
          "execution_count": 116
        }
      ]
    },
    {
      "cell_type": "markdown",
      "metadata": {
        "id": "aT7WW2qO0KH5"
      },
      "source": [
        "2.1 Write a Python program using function concept that maps list of words into a list of integers\n",
        "representing the lengths of the corresponding words."
      ]
    },
    {
      "cell_type": "code",
      "metadata": {
        "id": "O5g7N_FV0Nae"
      },
      "source": [
        "def len_words(words):\n",
        "  d = []\n",
        "  for i in range(len(words)):\n",
        "    d.append(len(words[i]))\n",
        "  return d\n"
      ],
      "execution_count": 117,
      "outputs": []
    },
    {
      "cell_type": "code",
      "metadata": {
        "colab": {
          "base_uri": "https://localhost:8080/"
        },
        "id": "0dCcae6C0sJP",
        "outputId": "4bc1e3d9-3930-44f1-d75b-cb096db58619"
      },
      "source": [
        "len_words(['This','is','Mohamed','Maideen'])"
      ],
      "execution_count": 118,
      "outputs": [
        {
          "output_type": "execute_result",
          "data": {
            "text/plain": [
              "[4, 2, 7, 7]"
            ]
          },
          "metadata": {
            "tags": []
          },
          "execution_count": 118
        }
      ]
    },
    {
      "cell_type": "markdown",
      "metadata": {
        "id": "KSGH-5u41AJz"
      },
      "source": [
        "2.2 Write a Python function which takes a character (i.e. a string of length 1) and returns True if\n",
        "it is a vowel, False otherwise."
      ]
    },
    {
      "cell_type": "code",
      "metadata": {
        "id": "yRBbnif21CgJ"
      },
      "source": [
        "def is_vowel(l):\n",
        "  v = ['a','e','i','o','u']\n",
        "  if l in v:\n",
        "    return True\n",
        "  else:\n",
        "    return False"
      ],
      "execution_count": 119,
      "outputs": []
    },
    {
      "cell_type": "code",
      "metadata": {
        "colab": {
          "base_uri": "https://localhost:8080/"
        },
        "id": "WLRlIa9U1dVe",
        "outputId": "3b3b17bf-624d-4d4a-d2f5-56f72acf665e"
      },
      "source": [
        "is_vowel('a')"
      ],
      "execution_count": 121,
      "outputs": [
        {
          "output_type": "execute_result",
          "data": {
            "text/plain": [
              "True"
            ]
          },
          "metadata": {
            "tags": []
          },
          "execution_count": 121
        }
      ]
    },
    {
      "cell_type": "code",
      "metadata": {
        "colab": {
          "base_uri": "https://localhost:8080/"
        },
        "id": "ca8LZN6N1fL0",
        "outputId": "3d10c435-1f35-4ae1-8e24-bbc149c285fb"
      },
      "source": [
        "is_vowel('b')"
      ],
      "execution_count": 122,
      "outputs": [
        {
          "output_type": "execute_result",
          "data": {
            "text/plain": [
              "False"
            ]
          },
          "metadata": {
            "tags": []
          },
          "execution_count": 122
        }
      ]
    },
    {
      "cell_type": "code",
      "metadata": {
        "id": "nPmm3-o21j_2"
      },
      "source": [
        ""
      ],
      "execution_count": null,
      "outputs": []
    }
  ]
}