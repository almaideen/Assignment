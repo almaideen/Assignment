{
  "nbformat": 4,
  "nbformat_minor": 0,
  "metadata": {
    "colab": {
      "name": "Exception Handling Assignment.ipynb",
      "provenance": []
    },
    "kernelspec": {
      "name": "python3",
      "display_name": "Python 3"
    },
    "language_info": {
      "name": "python"
    }
  },
  "cells": [
    {
      "cell_type": "markdown",
      "metadata": {
        "id": "ap3sdqL_C1Rz"
      },
      "source": [
        "1. Write a function to compute 5/0 and use try/except to catch the exceptions."
      ]
    },
    {
      "cell_type": "code",
      "metadata": {
        "id": "56LQCoffBvG4"
      },
      "source": [
        "def calc():\n",
        "\n",
        "  try:\n",
        "    n = int(input(\"Enter a Number \"))\n",
        "    v = 5/n\n",
        "  except Exception as e:\n",
        "    print(e)\n",
        "  else:\n",
        "    print(\"Value for 5 divided by your number: \",v)"
      ],
      "execution_count": 12,
      "outputs": []
    },
    {
      "cell_type": "code",
      "metadata": {
        "colab": {
          "base_uri": "https://localhost:8080/"
        },
        "id": "SE9v7Q6oCUkI",
        "outputId": "ed5a38fe-b287-4640-d820-27fd73daf8cf"
      },
      "source": [
        "calc()"
      ],
      "execution_count": 18,
      "outputs": [
        {
          "output_type": "stream",
          "text": [
            "Enter a Number 0\n",
            "division by zero\n"
          ],
          "name": "stdout"
        }
      ]
    },
    {
      "cell_type": "markdown",
      "metadata": {
        "id": "kqdUJzB5DICT"
      },
      "source": [
        "2. Implement a Python program to generate all sentences where subject is in\n",
        "[\"Americans\", \"Indians\"] and verb is in [\"Play\", \"watch\"] and the object is in\n",
        "[\"Baseball\",\"cricket\"]."
      ]
    },
    {
      "cell_type": "code",
      "metadata": {
        "id": "Gs73jAJHDLyK"
      },
      "source": [
        "subjects=[\"Americans \",\"Indians\"]\n",
        "verbs=[\"play\",\"watch\"]\n",
        "objects=[\"Baseball\",\"Cricket\"]"
      ],
      "execution_count": 19,
      "outputs": []
    },
    {
      "cell_type": "code",
      "metadata": {
        "colab": {
          "base_uri": "https://localhost:8080/"
        },
        "id": "im0ybqhRDgB6",
        "outputId": "070ade8b-603a-4ebe-d611-3f5cc463ee42"
      },
      "source": [
        "for i in subjects:\n",
        "  for j in verbs:\n",
        "    for k in objects:\n",
        "      print(i,j,k+'.')"
      ],
      "execution_count": 30,
      "outputs": [
        {
          "output_type": "stream",
          "text": [
            "Americans  play Baseball.\n",
            "Americans  play Cricket.\n",
            "Americans  watch Baseball.\n",
            "Americans  watch Cricket.\n",
            "Indians play Baseball.\n",
            "Indians play Cricket.\n",
            "Indians watch Baseball.\n",
            "Indians watch Cricket.\n"
          ],
          "name": "stdout"
        }
      ]
    },
    {
      "cell_type": "code",
      "metadata": {
        "id": "e1Mg0JRJD_Xp"
      },
      "source": [
        ""
      ],
      "execution_count": null,
      "outputs": []
    }
  ]
}